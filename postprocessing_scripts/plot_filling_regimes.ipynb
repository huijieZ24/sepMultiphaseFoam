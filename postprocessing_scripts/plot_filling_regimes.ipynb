{
 "cells": [
  {
   "cell_type": "markdown",
   "id": "be1e2d84-c2f2-4fd0-905a-8a0d2ed15e37",
   "metadata": {
    "tags": []
   },
   "source": [
    "# Filling regime map\n",
    "This notebook contains the plotting of the experimentally acquired filling regime map (Section 3.3.5)"
   ]
  },
  {
   "cell_type": "code",
   "execution_count": null,
   "id": "74c5f49b-f896-4b3c-966c-b6e755ddd235",
   "metadata": {},
   "outputs": [],
   "source": [
    "import numpy as np\n",
    "import os\n",
    "from os.path import join\n",
    "import matplotlib.pyplot as plt"
   ]
  },
  {
   "cell_type": "markdown",
   "id": "93d2f395-e81d-48a0-b20e-d0c0b3a1e16e",
   "metadata": {},
   "source": [
    "**Parameters from experiments**"
   ]
  },
  {
   "cell_type": "code",
   "execution_count": null,
   "id": "86284b78-37bf-4269-833d-aabe68f7a39a",
   "metadata": {},
   "outputs": [],
   "source": [
    "# fluids and fluid parameters\n",
    "fluids = ['water-air', 'tween-air', 'novec-air']\n",
    "viscosities = {\n",
    "    \"water-air\" : 0.9982e-3,\n",
    "    \"tween-air\" : 0.9982e-3,\n",
    "    \"novec-air\" : 1.2428e-3,\n",
    "}\n",
    "surfaceTensions = {\n",
    "    \"water-air\" : 0.07274,\n",
    "    \"tween-air\" : 0.035,\n",
    "    \"novec-air\": 0.0162\n",
    "}\n",
    "\n",
    "# cavity heights\n",
    "heights = [70e-6, 140e-6]\n",
    "\n",
    "# flow velocities\n",
    "velocities =    np.array([5e-5,    1e-4,    1e-3,    1e-2,    1e-1])\n",
    "\n",
    "# filling states corresponding to the velocities: \n",
    "# 1 (filled), 0.5 (partially filled), 0 (not filled), np.nan (no data)\n",
    "filling_states = {\n",
    "    \"water-air\" : [[np.nan,  0.5,      0,       0,       np.nan],  # height 70\n",
    "                  [np.nan,   0,        0,       0,       np.nan]], # height 140\n",
    "\n",
    "    \"tween-air\" : [[np.nan,  1,       0.5,     0.5,      np.nan],  # height 70\n",
    "                  [np.nan,   0.5,     0.5,     0,        np.nan]], # height 140\n",
    "\n",
    "    \"novec-air\" : [[np.nan,  np.nan,  np.nan,   1,       1     ],  # height 70\n",
    "                  [np.nan,   np.nan,  np.nan,   np.nan,  np.nan]]  # height 140\n",
    "}\n",
    "\n",
    "# paths\n",
    "path_save = \"../plots\"\n",
    "\n",
    "# plot cosmetics\n",
    "colors=[['#B95B22', '#E69F74'], #water-air\n",
    "        ['#2E506C', '#94B6D2'], #tween-air\n",
    "        ['#006600', '#87B486']] #novec-air\n",
    "markers=['+', 's', 'o']\n",
    "labels=[\"Water\", \"Tween\", \"Novec\"]\n",
    "\n",
    "# create plot directory\n",
    "os.makedirs(path_save, exist_ok=True)"
   ]
  },
  {
   "cell_type": "markdown",
   "id": "a3e3dd51-68dc-4eb7-9574-e5bc44ef94ee",
   "metadata": {},
   "source": [
    "**Plot filling regimes as a function of velocity (fig1) and capillary number (fig2)** \\\n",
    "Simulation data is added manually."
   ]
  },
  {
   "cell_type": "code",
   "execution_count": null,
   "id": "ea0f94f9-bb12-4f0b-a5ed-02a6c04ffaa7",
   "metadata": {},
   "outputs": [],
   "source": [
    "# create figures\n",
    "fig1, ax1 = plt.subplots(1,1, figsize=(4.87,2))\n",
    "fig2, ax2 = plt.subplots(1,1, figsize=(4.87,2))\n",
    "\n",
    "# loop over fluids\n",
    "for i in range(len(fluids)):\n",
    "    \n",
    "    # calculate capillary number ca\n",
    "    ca = velocities * viscosities[fluids[i]] / surfaceTensions[fluids[i]]\n",
    "    \n",
    "    # loop over cavity heights\n",
    "    for h in range(len(heights)):\n",
    "        \n",
    "        # determine filling regime from exp. data\n",
    "        filling = filling_states[fluids[i]][h]\n",
    "        \n",
    "        # plot filling regime over velocity\n",
    "        ax1.plot(velocities, filling, color = colors[i][h], marker = markers[h], \n",
    "                markersize=9, markerfacecolor=\"None\", linewidth=0, markeredgewidth=1.1, \n",
    "                label=f'{labels[i]}, $d={heights[h]*1e3:.2f} $ mm')\n",
    "        \n",
    "        # plot filling regime over capillary number\n",
    "        ax2.plot(ca, filling, color = colors[i][h], marker = markers[h], \\\n",
    "                markersize=9, markerfacecolor=\"None\", linewidth=0, markeredgewidth=1.1,\n",
    "                label=f'{labels[i]}, $d={heights[h]*1e3:.2f} $ mm')\n",
    "\n",
    "# cosmetics\n",
    "for ax in [ax1,ax2]:  \n",
    "    ax.set_xscale('log')    \n",
    "    ax.set_xlabel('$U$ (m/s)')\n",
    "    ax.set_yticks((0,0.5,1))\n",
    "    ax.set_yticklabels(('(N) not filled', '(P) partially filled', '(F) filled'))\n",
    "    ax.set_ylim(-0.2,1.2)\n",
    "    ax.grid(axis='y', linewidth=0.5, linestyle='--')\n",
    "    ax.legend(loc='upper left', bbox_to_anchor=(0,1.5), ncol=3, frameon=False)\n",
    "\n",
    "ax1.set_xlabel('Velocity $U$ (m/s)')\n",
    "ax2.set_xlabel('Capillary Number $Ca$')\n",
    "\n",
    "# save figure\n",
    "fig2.savefig(join(path_save, f'regime_map.png'), bbox_inches='tight', dpi=300, transparent=False)"
   ]
  }
 ],
 "metadata": {
  "kernelspec": {
   "display_name": "Python 3 (ipykernel)",
   "language": "python",
   "name": "python3"
  },
  "language_info": {
   "codemirror_mode": {
    "name": "ipython",
    "version": 3
   },
   "file_extension": ".py",
   "mimetype": "text/x-python",
   "name": "python",
   "nbconvert_exporter": "python",
   "pygments_lexer": "ipython3",
   "version": "3.9.7"
  }
 },
 "nbformat": 4,
 "nbformat_minor": 5
}
