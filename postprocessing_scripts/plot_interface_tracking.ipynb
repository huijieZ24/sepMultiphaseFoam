{
 "cells": [
  {
   "cell_type": "markdown",
   "metadata": {
    "tags": []
   },
   "source": [
    "# Mesh study and validation of simulations using interface tracking\n",
    "This notebook contains the plot generation for\n",
    "- the mesh study (Section 3.2) \n",
    "- the comparison between numerical and experimental data (Sections 3.3.2, 3.3.3)\n",
    "\n",
    "As experimental data, the results of the interface tracking (*image_processing_novec.ipynb*) are used. \\\n",
    "The interface tracking in the simulations is performed using the interfaceHeight functionObject. The resulting *.dat* files are processed to plot the interface position over time at different positions in the simulation domain."
   ]
  },
  {
   "cell_type": "code",
   "execution_count": null,
   "metadata": {},
   "outputs": [],
   "source": [
    "import os\n",
    "from os.path import join\n",
    "import numpy as np\n",
    "import pandas as pd\n",
    "import matplotlib.pyplot as plt\n",
    "import pickle\n",
    "from ast import literal_eval"
   ]
  },
  {
   "cell_type": "markdown",
   "metadata": {
    "tags": []
   },
   "source": [
    "## Functions"
   ]
  },
  {
   "cell_type": "code",
   "execution_count": null,
   "metadata": {},
   "outputs": [],
   "source": [
    "def get_dataframe_for_case(path_case):\n",
    "    \"\"\"\n",
    "    Reads the openfoam output files (.dat) and converts them to a dataframe.\n",
    "    \n",
    "    Args:\n",
    "        path_case (str): The path to the OpenFOAM case containing the .dat files.\n",
    "\n",
    "    Returns:\n",
    "        pandas.DataFrame: A dataframe containing the y and z position data in the first two rows, and the interface tracking data in the following rows.\n",
    "    \"\"\"\n",
    "\n",
    "    # Define paths to the .dat files\n",
    "    datFile_height = join(path_case, \"postProcessing/interfaceHeight1/0/height.dat\")\n",
    "    datFile_position = join(path_case, \"postProcessing/interfaceHeight1/0/position.dat\")\n",
    "    \n",
    "    # Read position.dat\n",
    "    df_pos_raw = pd.read_csv(datFile_position, comment='#', header=None, index_col=0,  delim_whitespace=True, nrows=1)\n",
    "    df_pos_raw = df_pos_raw.replace('\\)','',regex=True)\n",
    "    \n",
    "    # Get y and z positions\n",
    "    positions_y = np.array(['y']+[df_pos_raw.iloc[0,k] for k in range(2,df_pos_raw.shape[1],4)])  \n",
    "    positions_z = np.array(['z']+[df_pos_raw.iloc[0,k] for k in range(3,df_pos_raw.shape[1],4)])\n",
    "    \n",
    "    # Create position dataframe\n",
    "    df_pos = pd.DataFrame(columns=['time'] + list(range(0,len(positions_z)-1)))\n",
    "    df_pos = pd.concat([\n",
    "        df_pos, \n",
    "        pd.DataFrame(positions_y.reshape(1,-1), columns=list(df_pos)),\n",
    "        pd.DataFrame(positions_z.reshape(1,-1), columns=list(df_pos))\n",
    "    ], ignore_index=True)\n",
    "    \n",
    "    \n",
    "    # Create a dataframe for the interface location data (series of x values) from height.dat, drop empty lines\n",
    "    df_loc = pd.read_csv(datFile_height, delim_whitespace=True, comment='#', header=None)\n",
    "    drop_idx = list(range(1,df_loc.shape[1],2))\n",
    "    df_loc = df_loc.drop(drop_idx, axis=1) \n",
    "    \n",
    "    # Rename columns of df_loc\n",
    "    columns_new = ['time']+ list(range(df_loc.shape[1]-1))\n",
    "    columns_old = list(df_loc.columns)\n",
    "    dict_rename = {item : columns_new[i] for i, item in enumerate(columns_old)}\n",
    "    df_loc = df_loc.rename(columns=dict_rename)\n",
    "    \n",
    "    # Combine both dataframes\n",
    "    #df_linetracking = df_pos.append(df_loc, ignore_index=True)\n",
    "    df_linetracking = pd.concat([df_pos, df_loc], ignore_index=True)\n",
    "   \n",
    "    return df_linetracking"
   ]
  },
  {
   "cell_type": "code",
   "execution_count": null,
   "metadata": {
    "tags": []
   },
   "outputs": [],
   "source": [
    "def str_to_list_preserve_commas(s):\n",
    "    \"\"\"\n",
    "    Converts a string representation of a list to an actual list while preserving commas.\n",
    "    \n",
    "    When reading a .csv file containing lists, some errors can occur in pandas.\n",
    "    This function ensures correct formatting.\n",
    "    Necessary to process experimental data.\n",
    "\n",
    "     Args:\n",
    "         s (str): The string representation of the list.\n",
    "\n",
    "     Returns:\n",
    "         list: The list created from the string representation.\n",
    "    \"\"\"\n",
    "    \n",
    "    s = s.replace('[ ', '[')\n",
    "    s = \" \".join(s.split())\n",
    "    s = s.replace(' ', ',')\n",
    "    data = literal_eval(s)\n",
    "    \n",
    "    return data"
   ]
  },
  {
   "cell_type": "markdown",
   "metadata": {
    "tags": []
   },
   "source": [
    "## Mesh study"
   ]
  },
  {
   "cell_type": "markdown",
   "metadata": {},
   "source": [
    "**User input: paths and parameters**"
   ]
  },
  {
   "cell_type": "code",
   "execution_count": null,
   "metadata": {},
   "outputs": [],
   "source": [
    "# Paths\n",
    "path_data_experiments = r\"../data_experiments\"\n",
    "path_data_simulations = r\"../data_simulations\"\n",
    "path_save = r\"../plots\"\n",
    "\n",
    "# chosse fluid\n",
    "fluid = '02_tween' #available: 02_tween, 03_novec\n",
    "\n",
    "# Paths for simulation cases to be considered\n",
    "cases = {\n",
    "\n",
    "    '02_tween' : [\n",
    "                        join(path_data_simulations, r'02_tween/study_tween_u1e-2_d70'),   \n",
    "                        join(path_data_simulations, r'02_tween/study_tween_u1e-2_d70_meshMedium'),   \n",
    "                        join(path_data_simulations, r'02_tween/study_tween_u1e-2_d70_meshFine'),\n",
    "                     ],    \n",
    "    \n",
    "    '03_novec' : [   \n",
    "                        join(path_data_simulations, r'03_novec/study_novec_u1e-1_d70'),   \n",
    "                        join(path_data_simulations, r'03_novec/study_novec_u1e-1_d70_meshMedium'),   \n",
    "                        join(path_data_simulations, r'03_novec/study_novec_u1e-1_d70_meshFine'),\n",
    "                     ],    \n",
    "}\n",
    "\n",
    "# plot cosmetics\n",
    "labels=['$\\Delta x = 0.033$ mm', '$\\Delta x = 0.02$ mm', '$\\Delta x = 0.01$ mm']\n",
    "linestyles = ['--', '-.', ':']\n",
    "colors=['k', 'darkblue','orange', 'g', 'g', 'lightblue', 'r']\n",
    "linestyles = ['--', '-.', ':']*3\n",
    "if fluid == '02_tween':\n",
    "    x_cavities = 2. # position of first cavity row (mm)\n",
    "    xlim = [0.15,0.38]\n",
    "    ylim=[-0.2, 2.5]\n",
    "else:\n",
    "    x_cavities = 2. #mm\n",
    "    xlim = [0,0.038]\n",
    "    ylim=[-1.2, 2.5]\n",
    "    \n",
    "# test data frame loading\n",
    "display(get_dataframe_for_case(cases[fluid][0]))\n",
    "\n",
    "# create plot directory\n",
    "os.makedirs(path_save, exist_ok=True)"
   ]
  },
  {
   "cell_type": "markdown",
   "metadata": {},
   "source": [
    "**Plot**"
   ]
  },
  {
   "cell_type": "code",
   "execution_count": null,
   "metadata": {},
   "outputs": [],
   "source": [
    "# get data for all cases\n",
    "list_case_dfs = []\n",
    "for c in range(len(cases[fluid])):\n",
    "    df_sim = get_dataframe_for_case(cases[fluid][c])\n",
    "    list_case_dfs.append([df_sim])\n",
    "\n",
    "# loop over all three z positions, create plots\n",
    "for iz in [3,2,1]:\n",
    "    fig, ax = plt.subplots(figsize=(3,4.5))\n",
    "    \n",
    "    # loop over case data\n",
    "    for c in range(len(list_case_dfs)):\n",
    "        df_sim = list_case_dfs[c][0]\n",
    "        \n",
    "        # loop over y positions\n",
    "        for iy in range(len(range(iz,df_sim.shape[1],3))):\n",
    "                #print(iy)\n",
    "                \n",
    "            #exclude some datasets (y=4.5e-6m, y=0.0007m)\n",
    "            if not iy in [0,3]:\n",
    "                \n",
    "                # select column to be used\n",
    "                col =  range(iz,df_sim.shape[1],3)[iy]\n",
    "                #print(f\"y {df_sim.iloc[0,col]} z {df_sim.iloc[1,col]}\")\n",
    "                \n",
    "                if iy == 1 :\n",
    "                    # plot data, starting at row 2 (since row 0 and 1 contain the y and z positions, respectively)\n",
    "                    ax.plot(df_sim.iloc[2:,0],df_sim.iloc[2:,col]*1000-x_cavities, \n",
    "                            linewidth=2, color=colors[iy], linestyle = linestyles[c], label = labels[c])\n",
    "\n",
    "                else:\n",
    "                    # plot without label\n",
    "                    ax.plot(df_sim.iloc[2:,0],df_sim.iloc[2:,col]*1000-x_cavities, \n",
    "                            linewidth=1.5, color=colors[iy], linestyle = linestyles[c], label='_nolegend_')\n",
    "                \n",
    "    # cosmetics            \n",
    "    ax.set_title(f\"z = {np.around(np.float64(df_sim.iloc[1,col]),7):.2e} m\")\n",
    "    ax.set_xlabel(\"time (s)\")\n",
    "    ax.set_ylabel(\"x (mm)\")\n",
    "    ax.set_xlim(xlim)\n",
    "    ax.set_ylim(ylim)\n",
    "    ax.legend(loc='lower right')\n",
    "    \n",
    "    # save figure\n",
    "    fig.savefig(join(path_save, f\"mesh_study_interface_tracking_{fluid}_z{np.around(np.float64(df_sim.iloc[1,col]),7):.2e}.png\") , bbox_inches=\"tight\", dpi=600)"
   ]
  },
  {
   "cell_type": "markdown",
   "metadata": {
    "tags": []
   },
   "source": [
    "## Comparison to experimental data"
   ]
  },
  {
   "cell_type": "markdown",
   "metadata": {
    "tags": []
   },
   "source": [
    "### (N) Regime: Tween-air at Ca = 2.85 × 10^−4"
   ]
  },
  {
   "cell_type": "markdown",
   "metadata": {
    "tags": []
   },
   "source": [
    "**User input: paths, parameters**"
   ]
  },
  {
   "cell_type": "code",
   "execution_count": null,
   "metadata": {},
   "outputs": [],
   "source": [
    "# select fluid\n",
    "fluid='02_tween'\n",
    "\n",
    "# select experimental case\n",
    "case_exp = 14\n",
    "\n",
    "# starting position of cavities for calibraton\n",
    "x_cavities = 2 #mm\n",
    "\n",
    "# offset in x and t for calibration\n",
    "# (t_offset is found from visual comparison of interface position, x\n",
    "# x_offset is calibrated to match the plot)\n",
    "t_offset_exp = 0.052 #s \n",
    "x_offset_exp = 0.8 #mm\n",
    "\n",
    "# paths\n",
    "path_data_experiments = \"../data_experiments\"\n",
    "path_csv_interface_tracking_exp = join(path_data_experiments, fluid, \"04_interface_tracking\", f\"df_interface_tracking_{fluid}.csv\")\n",
    "path_case_sim = join(path_data_simulations, '02_tween/study_tween_u1e-2_d70')\n",
    "path_save = \"../plots\"\n",
    "\n",
    "# plot cosmetics\n",
    "linestyles=[ \"-.\",(0, (1, 0.5)), \"--\"]\n",
    "colors=['darkblue','orange', 'g', 'lightblue', 'r']\n",
    "labels=['z/H = 0.01' , 'z/H = 0.5', 'z/H = 0.99' ]\n",
    "\n",
    "# create plot directory\n",
    "os.makedirs(path_save, exist_ok=True)"
   ]
  },
  {
   "cell_type": "markdown",
   "metadata": {},
   "source": [
    "**Create plot**"
   ]
  },
  {
   "cell_type": "code",
   "execution_count": null,
   "metadata": {},
   "outputs": [],
   "source": [
    "# create plot\n",
    "fig, ax = plt.subplots(figsize=(4,5))\n",
    "\n",
    "# ------------- plot simulation data\n",
    "# get data\n",
    "df_sim = get_dataframe_for_case(path_case_sim)\n",
    "\n",
    "# loop over z positions for plot\n",
    "for iz in [2,1,0]:\n",
    "\n",
    "    # get data for this z and y position\n",
    "    # starting at row 2 of dataframe (since row 0 and 1 contain the y and z positions, respectively)\n",
    "    t = df_sim.iloc[2:,0]\n",
    "    x_mm = df_sim.iloc[2:,4+iz]*1000-x_cavities\n",
    "    \n",
    "    # plot\n",
    "    ax.plot(t,x_mm, linewidth=2 ,linestyle = linestyles[iz], label = labels[iz], color=colors[iz])\n",
    "\n",
    "# ------------- plot experimental data\n",
    "\n",
    "# get data\n",
    "df_interface_tracking = pd.read_csv(path_csv_interface_tracking_exp, index_col='case')\n",
    "t = np.array(str_to_list_preserve_commas(df_interface_tracking['list_time_range'][case_exp]))\n",
    "x_top = np.array(str_to_list_preserve_commas(df_interface_tracking['list_x_min_gray_mm_top'][case_exp]))\n",
    "x_bot = np.array(str_to_list_preserve_commas(df_interface_tracking['list_x_min_gray_mm_bot'][case_exp]))\n",
    "\n",
    "# plot\n",
    "ax.plot(t+t_offset_exp, (x_top+x_offset_exp)-x_cavities, '-r', linewidth=1.8, label= 'experiment, top')\n",
    "ax.plot(t+t_offset_exp, (x_bot+x_offset_exp)-x_cavities, '-k', linewidth=1.8, label= 'experiment, bottom')\n",
    "    \n",
    "# ------------- cosmetics\n",
    "\n",
    "ax.set_xlim(0.15,0.37)\n",
    "ax.set_ylim(-0.2,2.1)\n",
    "ax.set_xlabel(\"time (s)\")\n",
    "ax.set_ylabel(\"x (mm)\")\n",
    "ax.legend(loc='upper left')\n",
    "\n",
    "# save figure\n",
    "fig.savefig(join(path_save,f\"validation_interface_tracking_{fluid}.png\") , bbox_inches=\"tight\", dpi=600)"
   ]
  },
  {
   "cell_type": "markdown",
   "metadata": {
    "tags": []
   },
   "source": [
    "### (F) Regime: Novec-air at Ca = 7.67 × 10^−3."
   ]
  },
  {
   "cell_type": "markdown",
   "metadata": {
    "tags": []
   },
   "source": [
    "**User input: paths, parameters**"
   ]
  },
  {
   "cell_type": "code",
   "execution_count": null,
   "metadata": {},
   "outputs": [],
   "source": [
    "# select fluid\n",
    "fluid = '03_novec'\n",
    "\n",
    "# select experimental case\n",
    "case_exp = 2\n",
    "\n",
    "# starting position of cavities for calibraton\n",
    "x_cavities = 2 #mm\n",
    "\n",
    "# offset in x and t for calibration \n",
    "# (t_offset is found from visual comparison of interface position, x\n",
    "# x_offset is calibrated to match the plot)\n",
    "t_offset_exp = 0.004285714 #s \n",
    "x_offset_exp = 0.00095 #m\n",
    "\n",
    "# paths\n",
    "path_data_experiments = \"../data_experiments\"\n",
    "path_csv_interface_tracking_exp = join(path_data_experiments, fluid, \"04_interface_tracking\", f\"df_interface_tracking_{fluid}.csv\")\n",
    "path_case_sim = join(path_data_simulations, '03_novec/study_novec_u1e-2_d70')\n",
    "path_save = \"../plots\"\n",
    "\n",
    "# plot cosmetics\n",
    "linestyles=[ \"-.\",(0, (1, 0.5)), \"--\"]\n",
    "colors=['darkblue','orange', 'g']\n",
    "labels=labels=['z/H = 0.001' , 'z/H = 0.5', 'z/H = 0.999' ]\n",
    "\n",
    "# create plot directory\n",
    "os.makedirs(path_save, exist_ok=True)"
   ]
  },
  {
   "cell_type": "markdown",
   "metadata": {},
   "source": [
    "**Create plot**"
   ]
  },
  {
   "cell_type": "code",
   "execution_count": null,
   "metadata": {},
   "outputs": [],
   "source": [
    "# create plot\n",
    "fig, (ax1,ax2) = plt.subplots(2, figsize=(4,6))\n",
    "axes = [ax1, ax2]\n",
    "        \n",
    "# ------------- plot experimental data\n",
    "\n",
    "# get data\n",
    "df_interface_tracking = pd.read_csv(path_csv_interface_tracking_exp, index_col='case')\n",
    "t = np.array(str_to_list_preserve_commas(df_interface_tracking['time_range'][case_exp]))\n",
    "x_top = np.array(str_to_list_preserve_commas(df_interface_tracking['x_mm_front_top'][case_exp]))\n",
    "x_bot = np.array(str_to_list_preserve_commas(df_interface_tracking['x_mm_front_bot'][case_exp]))\n",
    "x_back_top = np.array(str_to_list_preserve_commas(df_interface_tracking['x_mm_back_top'][case_exp]))\n",
    "x_back_bot = np.array(str_to_list_preserve_commas(df_interface_tracking['x_mm_back_bot'][case_exp]))\n",
    "\n",
    "# plot\n",
    "# note: experimental data are cut off at the point as the interface leaves the roi.\n",
    "ax1.plot(t[:-60]+t_offset_exp, (x_bot[:-60]+x_offset_exp)*1000-x_cavities, 'k', linestyle ='-', linewidth=1.5)\n",
    "ax1.plot(t[:-55]+t_offset_exp, (x_back_bot[:-55]+x_offset_exp)*1000-x_cavities,  c='k', linestyle = '-', linewidth=1.5)\n",
    "\n",
    "ax2.plot(t[:-140]+t_offset_exp, (x_top[:-140]+x_offset_exp)*1000-x_cavities, '-', c='k', linewidth=1.5, label= 'experiment')\n",
    "ax2.plot(t[:-68]+t_offset_exp, (x_back_top[:-68]+x_offset_exp)*1000-x_cavities, '-', c='k' , linewidth=1.5)\n",
    "    \n",
    "# ------------- plot simulation data\n",
    "\n",
    "# get data\n",
    "df_sim = get_dataframe_for_case(path_case_sim)\n",
    "\n",
    "# loop over y positions for plot\n",
    "for i in range(2):\n",
    "    \n",
    "    # select y position for plot\n",
    "    iy = [10,4][i]\n",
    "    ax = axes[i]\n",
    "    \n",
    "    # loop over z positions for plot\n",
    "    for iz in [2,1,0]:\n",
    "\n",
    "        # plot\n",
    "        ax.plot(df_sim.iloc[2:,0],df_sim.iloc[2:,iy+iz]*1000-x_cavities, \n",
    "                linewidth= 1.5,linestyle = linestyles[iz], color=colors[iz], label=labels[iz])\n",
    "        \n",
    "# ------------- cosmetics\n",
    "for ax in axes:\n",
    "    ax.set_xlim(0.11,0.38)# 0.305)\n",
    "    ax.set_ylim(-0.5,3.5)\n",
    "    ax.set_ylabel(\"x (mm)\")\n",
    "ax2.set_xlabel(\"time (s)\")\n",
    "ax1.legend(loc='upper left')\n",
    "\n",
    "# save figure\n",
    "fig.savefig(join(path_save,f\"validation_interface_tracking_{fluid}.png\") , bbox_inches=\"tight\", dpi=600)"
   ]
  }
 ],
 "metadata": {
  "kernelspec": {
   "display_name": "Python 3 (ipykernel)",
   "language": "python",
   "name": "python3"
  },
  "language_info": {
   "codemirror_mode": {
    "name": "ipython",
    "version": 3
   },
   "file_extension": ".py",
   "mimetype": "text/x-python",
   "name": "python",
   "nbconvert_exporter": "python",
   "pygments_lexer": "ipython3",
   "version": "3.9.7"
  }
 },
 "nbformat": 4,
 "nbformat_minor": 4
}
