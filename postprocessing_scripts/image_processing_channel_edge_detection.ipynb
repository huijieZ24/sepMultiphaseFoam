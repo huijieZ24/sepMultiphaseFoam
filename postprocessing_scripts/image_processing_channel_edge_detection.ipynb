{
 "cells": [
  {
   "cell_type": "markdown",
   "id": "fe7e7399-f18d-4206-8285-18c93b070c89",
   "metadata": {},
   "source": [
    "# Image Processing: Channel edge detection\n",
    "This notebook contains the detection of the channel edges for experimental images (Section 2.1.2, step (ii))."
   ]
  },
  {
   "cell_type": "markdown",
   "id": "d42528dd-8c14-4d93-93b2-fc9a5f101b8c",
   "metadata": {},
   "source": [
    "## Functions"
   ]
  },
  {
   "cell_type": "code",
   "execution_count": null,
   "id": "7bc15d3e-c208-426d-9807-71ad361d0e8c",
   "metadata": {},
   "outputs": [],
   "source": [
    "import cv2\n",
    "import numpy as np\n",
    "from statistics import median\n",
    "import matplotlib.pyplot as plt\n",
    "import os\n",
    "from os.path import join\n",
    "import pandas as pd"
   ]
  },
  {
   "cell_type": "code",
   "execution_count": null,
   "id": "49f16e1e-a7b7-4c2d-bb18-08c1af8fb8dd",
   "metadata": {},
   "outputs": [],
   "source": [
    "def find_min_along_vertical_line(gray, pos_x, start_y, length):\n",
    "    \"\"\"\n",
    "    Find the minimum grayscale value along a vertical line in an image.\n",
    "\n",
    "    Args:\n",
    "    gray: a 2D numpy array representing the grayscale image\n",
    "    pos_x: x-coordinate of the starting point of the vertical line\n",
    "    start_y: y-coordinate of the starting point of the vertical line\n",
    "    length: length of the vertical line\n",
    "\n",
    "    Returns:\n",
    "    min_gray_val: minimum grayscale value found along the vertical line \n",
    "    y_min_gray_val: y-coordinate of the corresponding pixel\n",
    "     \"\"\"\n",
    "    \n",
    "    # create an array containing the y coordinates of the vertical line\n",
    "    y_line = np.array(range(start_y, start_y + length))\n",
    "    \n",
    "    # initialize the list containing the greyscale values\n",
    "    gray_vals = []\n",
    "    \n",
    "    # loop over y values of the vertical line and get corresponding grayscale values\n",
    "    for y in y_line:\n",
    "        gray_val = gray[y, pos_x]\n",
    "        gray_vals.append(gray_val)\n",
    "\n",
    "    # Find the minimum grayscale value and corresponding y position\n",
    "    min_gray_val = min(gray_vals)\n",
    "    y_min_gray_val = y_line[gray_vals.index(min(gray_vals))]\n",
    "\n",
    "    return min_gray_val, y_min_gray_val"
   ]
  },
  {
   "cell_type": "markdown",
   "id": "6c2a6ac3-eda8-46a5-87bd-e2bf0b3e1e93",
   "metadata": {},
   "source": [
    "## (ii) Channel edge detection"
   ]
  },
  {
   "cell_type": "markdown",
   "id": "2d225255-1be2-4836-a958-1470dda5171a",
   "metadata": {},
   "source": [
    "**User input: selection of cases and paths**"
   ]
  },
  {
   "cell_type": "code",
   "execution_count": null,
   "id": "c01675e7-bbbc-4bd6-8982-f2e25755949d",
   "metadata": {},
   "outputs": [],
   "source": [
    "# fluid\n",
    "fluid = \"01_water\" #available: 01_water, 02_tween, 03_novec, 04_novec_sim*\n",
    "\n",
    "# paths\n",
    "path_data_experiments = \"../data_experiments\"\n",
    "path_images = join(path_data_experiments, fluid, \"01_images_preprocessed\")\n",
    "path_save = join(path_data_experiments, fluid, \"02_channel_edges\")\n",
    "\n",
    "# create directory for saving results and plots\n",
    "os.makedirs(path_save, exist_ok=True)"
   ]
  },
  {
   "cell_type": "code",
   "execution_count": null,
   "id": "8847a259-6c01-4c06-bb36-f8ed0408b944",
   "metadata": {},
   "outputs": [],
   "source": [
    "# distance of the start of vertical lines from the upper and lower edge, respectively (px)\n",
    "# use 100 for experimental cases, 10 for simulation calibration cases.\n",
    "start_y_samples_from_edge = 100\n",
    "\n",
    "# length of the vertical lines (px)\n",
    "# use 200 for experimental cases, 300 for simulation calibration cases.\n",
    "length_sample_line = 200      "
   ]
  },
  {
   "cell_type": "markdown",
   "id": "5b925210-a44b-4bcd-8352-c9b2eccb21cc",
   "metadata": {},
   "source": [
    "**Run the analysis**"
   ]
  },
  {
   "cell_type": "code",
   "execution_count": null,
   "id": "59ea7f1d-4ac5-4bbb-b425-31ecd6c3934a",
   "metadata": {},
   "outputs": [],
   "source": [
    "# list of first images per case\n",
    "cases = [int(file) for file in os.listdir(path_images) if len(file)<3]\n",
    "\n",
    "# initialize list for results\n",
    "channel_edges = [[0]*(len(cases)), [0]*(len(cases))]\n",
    "\n",
    "# loop over cases\n",
    "for i in range(len(cases)):\n",
    "    print(f\"case {cases[i]}\")\n",
    "\n",
    "    # ---------------- get image\n",
    "    \n",
    "    # get last image of case to detect channel edges \n",
    "    img_name = os.listdir(join(path_images, str(cases[i])))[-1]\n",
    "\n",
    "    # load image, convert it to grayscale\n",
    "    img = cv2.imread(join(path_images, str(cases[i]), img_name))\n",
    "    img_gray = cv2.cvtColor(img, cv2.COLOR_BGR2GRAY)\n",
    "\n",
    "    # plot the image\n",
    "    plt.figure(figsize=(4,4))\n",
    "    plt.imshow(img_gray, cmap='gray', vmin=0, vmax=255)\n",
    "\n",
    "    # ---------------- detect channel edges\n",
    "\n",
    "    # set start points for sampling\n",
    "    x_samples = np.arange(10,len(img_gray[0]),10)\n",
    "    start_ys = [start_y_samples_from_edge, len(img_gray)-start_y_samples_from_edge-length_sample_line]\n",
    "    \n",
    "    # loop over y start positions\n",
    "    for yi in range(len(start_ys)):\n",
    "        start_y = start_ys[yi]\n",
    "        \n",
    "        # initialize list for storing positions of darkest pixels along sampled lines\n",
    "        list_y_min_gray = []\n",
    "\n",
    "        # loop over x positions\n",
    "        for xi in range(len(x_samples)):\n",
    "            x_sample = x_samples[xi]\n",
    "            (min_gray_val, y_min_gray_val) = find_min_along_vertical_line(img_gray, x_sample, start_y, length_sample_line)\n",
    "            list_y_min_gray.append(y_min_gray_val)\n",
    "\n",
    "        # get median\n",
    "        y_median = np.median(list_y_min_gray)\n",
    "\n",
    "        # save median in list\n",
    "        channel_edges[yi][i] = y_median\n",
    "        \n",
    "        # ----------------plot\n",
    "        \n",
    "        # for a better overview, not all sample points are plotted\n",
    "        plotevery=5\n",
    "\n",
    "        # plot the sample lines\n",
    "        for x in x_samples[::plotevery]:\n",
    "            plt.plot([x,x], [start_y, start_y + length_sample_line], '--b', linewidth=1, \n",
    "                     label = \"sampling lines\" if  yi ==0 and x==x_samples[::plotevery][0] else None)\n",
    "                                \n",
    "        # plot the min grayscle values\n",
    "        plt.plot(x_samples[::plotevery], list_y_min_gray[::plotevery], '+k', markersize=10, markeredgewidth=2, \n",
    "                 label='sampled points' if yi ==0 else None)\n",
    "\n",
    "        # plot the median line    \n",
    "        plt.plot([x_samples[0],x_samples[-1]], [y_median, y_median],'-r', linewidth=1,\n",
    "                 label='median line' if yi ==0 else None)\n",
    "                \n",
    "        plt.legend(fancybox=False, framealpha=1.0, facecolor=[0.8,0.8,0.8], edgecolor='k', loc='center right', fontsize=10, \n",
    "                   bbox_to_anchor=(1.0,0.32), title=f\"case {cases[i]}, img {img_name[-8:-4]}\")\n",
    "\n",
    "    # save plot\n",
    "    #plt.savefig(join(path_save, str(cases[i])+\".png\"), bbox_inches='tight', dpi=600)\n",
    "        "
   ]
  },
  {
   "cell_type": "markdown",
   "id": "2c681ef6-094c-4ac7-adee-bcfa422cf9db",
   "metadata": {},
   "source": [
    "**save data**"
   ]
  },
  {
   "cell_type": "code",
   "execution_count": null,
   "id": "4d272bfb-1a9e-4e2e-807b-02e3233f3798",
   "metadata": {},
   "outputs": [],
   "source": [
    "# create dataframe\n",
    "df = pd.DataFrame(list(zip(channel_edges[0], channel_edges[1])),\n",
    "               columns =['channel_edge_top', 'channel_edge_bottom'], index=(cases))\n",
    "\n",
    "# save dataframe\n",
    "df.to_csv(join(path_save, 'df_channel_edges.csv'), index_label='case')\n",
    "\n",
    "# display dataframe\n",
    "display(df)"
   ]
  }
 ],
 "metadata": {
  "kernelspec": {
   "display_name": "Python [conda env:.conda-nal7rng]",
   "language": "python",
   "name": "conda-env-.conda-nal7rng-py"
  },
  "language_info": {
   "codemirror_mode": {
    "name": "ipython",
    "version": 3
   },
   "file_extension": ".py",
   "mimetype": "text/x-python",
   "name": "python",
   "nbconvert_exporter": "python",
   "pygments_lexer": "ipython3",
   "version": "3.11.5"
  }
 },
 "nbformat": 4,
 "nbformat_minor": 5
}
